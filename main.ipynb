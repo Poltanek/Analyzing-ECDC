{
 "cells": [
  {
   "cell_type": "code",
   "execution_count": 10,
   "metadata": {},
   "outputs": [
    {
     "name": "stdout",
     "output_type": "stream",
     "text": [
      "     date_rep  day  month  year  cases  deaths countries_and_territories  \\\n",
      "0  2020-12-14   14     12  2020  746.0       6               Afghanistan   \n",
      "1  2020-12-13   13     12  2020  298.0       9               Afghanistan   \n",
      "2  2020-12-12   12     12  2020  113.0      11               Afghanistan   \n",
      "3  2020-12-11   11     12  2020   63.0      10               Afghanistan   \n",
      "4  2020-12-10   10     12  2020  202.0      16               Afghanistan   \n",
      "\n",
      "  geo_id country_territory_code  pop_data_2018 continent_exp  \\\n",
      "0     AF                    AFG            NaN          Asia   \n",
      "1     AF                    AFG            NaN          Asia   \n",
      "2     AF                    AFG            NaN          Asia   \n",
      "3     AF                    AFG            NaN          Asia   \n",
      "4     AF                    AFG            NaN          Asia   \n",
      "\n",
      "             load_date iso_country     daterep  \n",
      "0  2025-03-28 00:04:30          AF  2020-12-14  \n",
      "1  2025-03-28 00:04:30          AF  2020-12-13  \n",
      "2  2025-03-28 00:04:30          AF  2020-12-12  \n",
      "3  2025-03-28 00:04:30          AF  2020-12-11  \n",
      "4  2025-03-28 00:04:30          AF  2020-12-10  \n"
     ]
    }
   ],
   "source": [
    "import pandas as pd\n",
    "\n",
    "dataset = \"ecdc_cases.csv\"\n",
    "display_first = pd.read_csv(dataset)\n",
    "\n",
    "print(display_first.head())"
   ]
  },
  {
   "cell_type": "code",
   "execution_count": 11,
   "metadata": {},
   "outputs": [
    {
     "name": "stdout",
     "output_type": "stream",
     "text": [
      "Standard Deviation of Cases 2597.918883980125\n",
      "Standard Deviation of Deaths 131.22705508460183\n"
     ]
    }
   ],
   "source": [
    "std_cases = display_first['cases'].std()\n",
    "std_deaths = display_first['deaths'].std()\n",
    "\n",
    "print(f\"Standard Deviation of Cases {std_cases}\")\n",
    "print(f\"Standard Deviation of Deaths {std_deaths}\")"
   ]
  },
  {
   "cell_type": "code",
   "execution_count": 12,
   "metadata": {},
   "outputs": [
    {
     "name": "stdout",
     "output_type": "stream",
     "text": [
      "date_rep                         0\n",
      "day                              0\n",
      "month                            0\n",
      "year                             0\n",
      "cases                          454\n",
      "deaths                           0\n",
      "countries_and_territories        0\n",
      "geo_id                         275\n",
      "country_territory_code         123\n",
      "pop_data_2018                61900\n",
      "continent_exp                    0\n",
      "load_date                        0\n",
      "iso_country                    275\n",
      "daterep                          0\n",
      "dtype: int64\n"
     ]
    }
   ],
   "source": [
    "display_first['date_rep'] = pd.to_datetime(display_first['date_rep'])\n",
    "\n",
    "display_first = display_first.sort_values(by=['countries_and_territories', 'date_rep'])\n",
    "\n",
    "print(display_first.isnull().sum())"
   ]
  },
  {
   "cell_type": "code",
   "execution_count": 13,
   "metadata": {},
   "outputs": [],
   "source": [
    "# If there are missing cases or no mentions of deaths we can put them down as 0\n",
    "display_first[['cases', 'deaths']] = display_first[['cases', 'deaths']].fillna(0)"
   ]
  },
  {
   "cell_type": "code",
   "execution_count": 14,
   "metadata": {},
   "outputs": [],
   "source": [
    "country_stats = display_first.groupby(\"countries_and_territories\")[['cases', 'deaths']].sum()\n",
    "\n",
    "country_stats['mortality_rate'] = (country_stats['deaths'] / country_stats['cases'])\n"
   ]
  },
  {
   "cell_type": "code",
   "execution_count": 15,
   "metadata": {},
   "outputs": [
    {
     "name": "stdout",
     "output_type": "stream",
     "text": [
      "                               cases  deaths  mortality_rate\n",
      "countries_and_territories                                   \n",
      "Yemen                         2083.0     606       29.092655\n",
      "United_States_of_America   2126878.0  299177       14.066486\n",
      "India                      1266602.0  143355       11.318078\n",
      "Mexico                     1250044.0  113953        9.115919\n",
      "Montserrat                      13.0       1        7.692308\n",
      "Ecuador                     202110.0   13875        6.865073\n",
      "Isle_of_Man                    370.0      25        6.756757\n",
      "Brazil                     2694729.0  181402        6.731734\n",
      "Sudan                        21386.0    1347        6.298513\n",
      "Bolivia                     147150.0    9018        6.128440\n"
     ]
    }
   ],
   "source": [
    "country_stats = display_first.groupby(\"countries_and_territories\")[['cases', 'deaths']].sum()\n",
    "\n",
    "country_stats['mortality_rate'] = (country_stats['deaths'] / country_stats['cases']) * 100\n",
    "country_stats = country_stats.sort_values(by=\"mortality_rate\", ascending=False)\n",
    "print(country_stats.head(10))\n"
   ]
  },
  {
   "cell_type": "code",
   "execution_count": 16,
   "metadata": {},
   "outputs": [
    {
     "name": "stdout",
     "output_type": "stream",
     "text": [
      "Standard Deviation of Cases: 435085\n",
      "Standard Deviation of Deaths: 28410\n"
     ]
    }
   ],
   "source": [
    "import math\n",
    "import numpy as np\n",
    "\n",
    "std_cases = country_stats['cases'].std()\n",
    "std_deaths = country_stats['deaths'].std()\n",
    "var_cases = std_cases ** 2\n",
    "var_deaths = std_deaths ** 2\n",
    "\n",
    "print(f\"Standard Deviation of Cases: {math.ceil(std_cases)}\")\n",
    "print(f\"Standard Deviation of Deaths: {math.ceil(std_deaths)}\")"
   ]
  },
  {
   "cell_type": "code",
   "execution_count": 17,
   "metadata": {},
   "outputs": [
    {
     "data": {
      "text/html": [
       "<div>\n",
       "<style scoped>\n",
       "    .dataframe tbody tr th:only-of-type {\n",
       "        vertical-align: middle;\n",
       "    }\n",
       "\n",
       "    .dataframe tbody tr th {\n",
       "        vertical-align: top;\n",
       "    }\n",
       "\n",
       "    .dataframe thead th {\n",
       "        text-align: right;\n",
       "    }\n",
       "</style>\n",
       "<table border=\"1\" class=\"dataframe\">\n",
       "  <thead>\n",
       "    <tr style=\"text-align: right;\">\n",
       "      <th></th>\n",
       "      <th>date_rep</th>\n",
       "      <th>day</th>\n",
       "      <th>month</th>\n",
       "      <th>year</th>\n",
       "      <th>cases</th>\n",
       "      <th>deaths</th>\n",
       "      <th>countries_and_territories</th>\n",
       "      <th>geo_id</th>\n",
       "      <th>country_territory_code</th>\n",
       "      <th>pop_data_2018</th>\n",
       "      <th>continent_exp</th>\n",
       "      <th>load_date</th>\n",
       "      <th>iso_country</th>\n",
       "      <th>daterep</th>\n",
       "      <th>case_growth_rate</th>\n",
       "    </tr>\n",
       "  </thead>\n",
       "  <tbody>\n",
       "    <tr>\n",
       "      <th>59350</th>\n",
       "      <td>2019-12-31</td>\n",
       "      <td>31</td>\n",
       "      <td>12</td>\n",
       "      <td>2019</td>\n",
       "      <td>0.0</td>\n",
       "      <td>0</td>\n",
       "      <td>United_States_of_America</td>\n",
       "      <td>US</td>\n",
       "      <td>USA</td>\n",
       "      <td>NaN</td>\n",
       "      <td>America</td>\n",
       "      <td>2025-03-28 00:04:30</td>\n",
       "      <td>US</td>\n",
       "      <td>2019-12-31</td>\n",
       "      <td>0.0</td>\n",
       "    </tr>\n",
       "    <tr>\n",
       "      <th>59349</th>\n",
       "      <td>2020-01-01</td>\n",
       "      <td>1</td>\n",
       "      <td>1</td>\n",
       "      <td>2020</td>\n",
       "      <td>0.0</td>\n",
       "      <td>0</td>\n",
       "      <td>United_States_of_America</td>\n",
       "      <td>US</td>\n",
       "      <td>USA</td>\n",
       "      <td>NaN</td>\n",
       "      <td>America</td>\n",
       "      <td>2025-03-28 00:04:30</td>\n",
       "      <td>US</td>\n",
       "      <td>2020-01-01</td>\n",
       "      <td>0.0</td>\n",
       "    </tr>\n",
       "    <tr>\n",
       "      <th>59348</th>\n",
       "      <td>2020-01-02</td>\n",
       "      <td>2</td>\n",
       "      <td>1</td>\n",
       "      <td>2020</td>\n",
       "      <td>0.0</td>\n",
       "      <td>0</td>\n",
       "      <td>United_States_of_America</td>\n",
       "      <td>US</td>\n",
       "      <td>USA</td>\n",
       "      <td>NaN</td>\n",
       "      <td>America</td>\n",
       "      <td>2025-03-28 00:04:30</td>\n",
       "      <td>US</td>\n",
       "      <td>2020-01-02</td>\n",
       "      <td>0.0</td>\n",
       "    </tr>\n",
       "    <tr>\n",
       "      <th>59347</th>\n",
       "      <td>2020-01-03</td>\n",
       "      <td>3</td>\n",
       "      <td>1</td>\n",
       "      <td>2020</td>\n",
       "      <td>0.0</td>\n",
       "      <td>0</td>\n",
       "      <td>United_States_of_America</td>\n",
       "      <td>US</td>\n",
       "      <td>USA</td>\n",
       "      <td>NaN</td>\n",
       "      <td>America</td>\n",
       "      <td>2025-03-28 00:04:30</td>\n",
       "      <td>US</td>\n",
       "      <td>2020-01-03</td>\n",
       "      <td>0.0</td>\n",
       "    </tr>\n",
       "    <tr>\n",
       "      <th>59346</th>\n",
       "      <td>2020-01-04</td>\n",
       "      <td>4</td>\n",
       "      <td>1</td>\n",
       "      <td>2020</td>\n",
       "      <td>0.0</td>\n",
       "      <td>0</td>\n",
       "      <td>United_States_of_America</td>\n",
       "      <td>US</td>\n",
       "      <td>USA</td>\n",
       "      <td>NaN</td>\n",
       "      <td>America</td>\n",
       "      <td>2025-03-28 00:04:30</td>\n",
       "      <td>US</td>\n",
       "      <td>2020-01-04</td>\n",
       "      <td>0.0</td>\n",
       "    </tr>\n",
       "    <tr>\n",
       "      <th>59345</th>\n",
       "      <td>2020-01-05</td>\n",
       "      <td>5</td>\n",
       "      <td>1</td>\n",
       "      <td>2020</td>\n",
       "      <td>0.0</td>\n",
       "      <td>0</td>\n",
       "      <td>United_States_of_America</td>\n",
       "      <td>US</td>\n",
       "      <td>USA</td>\n",
       "      <td>NaN</td>\n",
       "      <td>America</td>\n",
       "      <td>2025-03-28 00:04:30</td>\n",
       "      <td>US</td>\n",
       "      <td>2020-01-05</td>\n",
       "      <td>0.0</td>\n",
       "    </tr>\n",
       "    <tr>\n",
       "      <th>59344</th>\n",
       "      <td>2020-01-06</td>\n",
       "      <td>6</td>\n",
       "      <td>1</td>\n",
       "      <td>2020</td>\n",
       "      <td>0.0</td>\n",
       "      <td>0</td>\n",
       "      <td>United_States_of_America</td>\n",
       "      <td>US</td>\n",
       "      <td>USA</td>\n",
       "      <td>NaN</td>\n",
       "      <td>America</td>\n",
       "      <td>2025-03-28 00:04:30</td>\n",
       "      <td>US</td>\n",
       "      <td>2020-01-06</td>\n",
       "      <td>0.0</td>\n",
       "    </tr>\n",
       "    <tr>\n",
       "      <th>59343</th>\n",
       "      <td>2020-01-07</td>\n",
       "      <td>7</td>\n",
       "      <td>1</td>\n",
       "      <td>2020</td>\n",
       "      <td>0.0</td>\n",
       "      <td>0</td>\n",
       "      <td>United_States_of_America</td>\n",
       "      <td>US</td>\n",
       "      <td>USA</td>\n",
       "      <td>NaN</td>\n",
       "      <td>America</td>\n",
       "      <td>2025-03-28 00:04:30</td>\n",
       "      <td>US</td>\n",
       "      <td>2020-01-07</td>\n",
       "      <td>0.0</td>\n",
       "    </tr>\n",
       "    <tr>\n",
       "      <th>59342</th>\n",
       "      <td>2020-01-08</td>\n",
       "      <td>8</td>\n",
       "      <td>1</td>\n",
       "      <td>2020</td>\n",
       "      <td>0.0</td>\n",
       "      <td>0</td>\n",
       "      <td>United_States_of_America</td>\n",
       "      <td>US</td>\n",
       "      <td>USA</td>\n",
       "      <td>NaN</td>\n",
       "      <td>America</td>\n",
       "      <td>2025-03-28 00:04:30</td>\n",
       "      <td>US</td>\n",
       "      <td>2020-01-08</td>\n",
       "      <td>0.0</td>\n",
       "    </tr>\n",
       "    <tr>\n",
       "      <th>59341</th>\n",
       "      <td>2020-01-09</td>\n",
       "      <td>9</td>\n",
       "      <td>1</td>\n",
       "      <td>2020</td>\n",
       "      <td>0.0</td>\n",
       "      <td>0</td>\n",
       "      <td>United_States_of_America</td>\n",
       "      <td>US</td>\n",
       "      <td>USA</td>\n",
       "      <td>NaN</td>\n",
       "      <td>America</td>\n",
       "      <td>2025-03-28 00:04:30</td>\n",
       "      <td>US</td>\n",
       "      <td>2020-01-09</td>\n",
       "      <td>0.0</td>\n",
       "    </tr>\n",
       "  </tbody>\n",
       "</table>\n",
       "</div>"
      ],
      "text/plain": [
       "        date_rep  day  month  year  cases  deaths countries_and_territories  \\\n",
       "59350 2019-12-31   31     12  2019    0.0       0  United_States_of_America   \n",
       "59349 2020-01-01    1      1  2020    0.0       0  United_States_of_America   \n",
       "59348 2020-01-02    2      1  2020    0.0       0  United_States_of_America   \n",
       "59347 2020-01-03    3      1  2020    0.0       0  United_States_of_America   \n",
       "59346 2020-01-04    4      1  2020    0.0       0  United_States_of_America   \n",
       "59345 2020-01-05    5      1  2020    0.0       0  United_States_of_America   \n",
       "59344 2020-01-06    6      1  2020    0.0       0  United_States_of_America   \n",
       "59343 2020-01-07    7      1  2020    0.0       0  United_States_of_America   \n",
       "59342 2020-01-08    8      1  2020    0.0       0  United_States_of_America   \n",
       "59341 2020-01-09    9      1  2020    0.0       0  United_States_of_America   \n",
       "\n",
       "      geo_id country_territory_code  pop_data_2018 continent_exp  \\\n",
       "59350     US                    USA            NaN       America   \n",
       "59349     US                    USA            NaN       America   \n",
       "59348     US                    USA            NaN       America   \n",
       "59347     US                    USA            NaN       America   \n",
       "59346     US                    USA            NaN       America   \n",
       "59345     US                    USA            NaN       America   \n",
       "59344     US                    USA            NaN       America   \n",
       "59343     US                    USA            NaN       America   \n",
       "59342     US                    USA            NaN       America   \n",
       "59341     US                    USA            NaN       America   \n",
       "\n",
       "                 load_date iso_country     daterep  case_growth_rate  \n",
       "59350  2025-03-28 00:04:30          US  2019-12-31               0.0  \n",
       "59349  2025-03-28 00:04:30          US  2020-01-01               0.0  \n",
       "59348  2025-03-28 00:04:30          US  2020-01-02               0.0  \n",
       "59347  2025-03-28 00:04:30          US  2020-01-03               0.0  \n",
       "59346  2025-03-28 00:04:30          US  2020-01-04               0.0  \n",
       "59345  2025-03-28 00:04:30          US  2020-01-05               0.0  \n",
       "59344  2025-03-28 00:04:30          US  2020-01-06               0.0  \n",
       "59343  2025-03-28 00:04:30          US  2020-01-07               0.0  \n",
       "59342  2025-03-28 00:04:30          US  2020-01-08               0.0  \n",
       "59341  2025-03-28 00:04:30          US  2020-01-09               0.0  "
      ]
     },
     "execution_count": 17,
     "metadata": {},
     "output_type": "execute_result"
    }
   ],
   "source": [
    "display_first['case_growth_rate'] = display_first.groupby('countries_and_territories')['cases'].pct_change() * 100\n",
    "display_first['case_growth_rate'] = display_first['case_growth_rate'].fillna(0)\n",
    "display_first[display_first['countries_and_territories'] == \"United_States_of_America\"].head(10)"
   ]
  },
  {
   "cell_type": "code",
   "execution_count": 19,
   "metadata": {},
   "outputs": [
    {
     "name": "stdout",
     "output_type": "stream",
     "text": [
      " 'mortality_rate' column added and saved to new csv!\n"
     ]
    }
   ],
   "source": [
    "country_stats.to_csv(\"ecdc_cases_with_mortality.csv\", index=False)\n",
    "\n",
    "print(\" 'mortality_rate' column added and saved to new csv!\")"
   ]
  },
  {
   "cell_type": "code",
   "execution_count": null,
   "metadata": {},
   "outputs": [
    {
     "name": "stderr",
     "output_type": "stream",
     "text": [
      "C:\\Users\\adamt\\AppData\\Local\\Temp\\ipykernel_25712\\3563927811.py:8: FutureWarning: \n",
      "\n",
      "Passing `palette` without assigning `hue` is deprecated and will be removed in v0.14.0. Assign the `x` variable to `hue` and set `legend=False` for the same effect.\n",
      "\n",
      "  sns.barplot(x=top_countries.index, y=top_countries[\"mortality_rate\"], palette=\"Reds\")\n"
     ]
    },
    {
     "data": {
      "image/png": "[encoded data removed]",
      "text/plain": [
       "<Figure size 1200x600 with 1 Axes>"
      ]
     },
     "metadata": {},
     "output_type": "display_data"
    }
   ],
   "source": [
    "import matplotlib.pyplot as plt\n",
    "import seaborn as sns\n",
    "\n",
    "# top 10 countries with highest mortality rates\n",
    "top_countries = country_stats.head(10)\n",
    "\n",
    "plt.figure(figsize=(12,6))\n",
    "sns.barplot(x=top_countries.index, y=top_countries[\"mortality_rate\"], palette=\"Reds\")\n",
    "plt.xticks(rotation=45)\n",
    "plt.ylabel(\"Mortality Rate (%)\")\n",
    "plt.title(\"Top 10 Countries by COVID-19 Mortality Rate\")\n",
    "plt.show()"
   ]
  }
 ],
 "metadata": {
  "kernelspec": {
   "display_name": "Python 3",
   "language": "python",
   "name": "python3"
  },
  "language_info": {
   "codemirror_mode": {
    "name": "ipython",
    "version": 3
   },
   "file_extension": ".py",
   "mimetype": "text/x-python",
   "name": "python",
   "nbconvert_exporter": "python",
   "pygments_lexer": "ipython3",
   "version": "3.12.6"
  }
 },
 "nbformat": 4,
 "nbformat_minor": 2
}
