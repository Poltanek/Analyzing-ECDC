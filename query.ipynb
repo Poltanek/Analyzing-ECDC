{
 "cells": [
  {
   "cell_type": "code",
   "execution_count": 12,
   "id": "62d574a3",
   "metadata": {},
   "outputs": [
    {
     "data": {
      "text/plain": [
       "61900"
      ]
     },
     "execution_count": 12,
     "metadata": {},
     "output_type": "execute_result"
    }
   ],
   "source": [
    "import sqlite3\n",
    "import pandas as pd\n",
    "\n",
    "# Connect to SQLite\n",
    "conn = sqlite3.connect(\":memory:\")\n",
    "cursor = conn.cursor()\n",
    "\n",
    "# Load CSV into SQLite \n",
    "df = pd.read_csv(\"ecdc_cases.csv\")\n",
    "df.to_sql(\"ecdc_cases\", conn, index=False, if_exists=\"replace\")\n"
   ]
  },
  {
   "cell_type": "code",
   "execution_count": 13,
   "id": "23698328",
   "metadata": {},
   "outputs": [
    {
     "name": "stdout",
     "output_type": "stream",
     "text": [
      "Total Cases by Country:\n",
      "   countries_and_territories  total_cases\n",
      "0                    Brazil    2694729.0\n",
      "1                    Russia    2653928.0\n",
      "2  United_States_of_America    2126878.0\n",
      "3            United_Kingdom    1815933.0\n",
      "4                 Argentina    1498160.0\n",
      "\n",
      "Query executed and saved successfully!\n"
     ]
    }
   ],
   "source": [
    "# Total cases per country\n",
    "query1 = \"\"\"\n",
    "SELECT countries_and_territories, SUM(cases) as total_cases\n",
    "FROM ecdc_cases\n",
    "GROUP BY countries_and_territories\n",
    "ORDER BY total_cases DESC\n",
    "\"\"\"\n",
    "df_total_cases = pd.read_sql(query1, conn)\n",
    "print(\"Total Cases by Country:\\n\", df_total_cases.head())\n",
    "\n",
    "df_total_cases.to_csv(\"total_cases_by_country.csv\", index=False)\n",
    "print(\"\\nQuery executed and saved successfully!\")"
   ]
  },
  {
   "cell_type": "code",
   "execution_count": 14,
   "id": "0be6ef0e",
   "metadata": {},
   "outputs": [
    {
     "name": "stdout",
     "output_type": "stream",
     "text": [
      "\n",
      "United Kingdom Cases Over Time:\n",
      "      date_rep  cases\n",
      "0  2019-12-31    0.0\n",
      "1  2020-01-01    0.0\n",
      "2  2020-01-02    0.0\n",
      "3  2020-01-03    0.0\n",
      "4  2020-01-04    0.0\n",
      "\n",
      "Queries executed and saved successfully!\n"
     ]
    }
   ],
   "source": [
    "# Daily cases in the United Kingdom\n",
    "query2 = \"\"\"\n",
    "SELECT date_rep, cases\n",
    "FROM ecdc_cases\n",
    "WHERE countries_and_territories = 'United_Kingdom'\n",
    "ORDER BY date_rep ASC\n",
    "\"\"\"\n",
    "df_uk_cases = pd.read_sql(query2, conn)\n",
    "print(\"\\nUnited Kingdom Cases Over Time:\\n\", df_uk_cases.head())\n",
    "\n",
    "df_uk_cases.to_csv(\"uk_cases_over_time.csv\", index=False)\n",
    "\n",
    "print(\"\\nQueries executed and saved successfully!\")"
   ]
  }
 ],
 "metadata": {
  "kernelspec": {
   "display_name": "Python 3",
   "language": "python",
   "name": "python3"
  },
  "language_info": {
   "codemirror_mode": {
    "name": "ipython",
    "version": 3
   },
   "file_extension": ".py",
   "mimetype": "text/x-python",
   "name": "python",
   "nbconvert_exporter": "python",
   "pygments_lexer": "ipython3",
   "version": "3.12.6"
  }
 },
 "nbformat": 4,
 "nbformat_minor": 5
}
